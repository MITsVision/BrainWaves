{
 "cells": [
  {
   "cell_type": "code",
   "execution_count": 1,
   "metadata": {
    "collapsed": true
   },
   "outputs": [],
   "source": [
    "import pandas as pd\n",
    "import numpy as np\n",
    "import scipy as sc\n",
    "import sklearn as skl\n",
    "import matplotlib\n",
    "import matplotlib.pyplot as plt\n",
    "\n",
    "%matplotlib inline"
   ]
  },
  {
   "cell_type": "code",
   "execution_count": 2,
   "metadata": {
    "collapsed": true
   },
   "outputs": [],
   "source": [
    "df = pd.read_csv(\"./train.csv\")"
   ]
  },
  {
   "cell_type": "code",
   "execution_count": 3,
   "metadata": {},
   "outputs": [
    {
     "data": {
      "text/plain": [
       "0       110000000.0\n",
       "1       176671000.0\n",
       "2        56474000.0\n",
       "3       164813000.0\n",
       "4       140800000.0\n",
       "5        48741000.0\n",
       "6        60593500.0\n",
       "7       134200000.0\n",
       "8        82929000.0\n",
       "9       212476000.0\n",
       "10       77099000.0\n",
       "11      134200000.0\n",
       "12       54989000.0\n",
       "13       61567000.0\n",
       "14       80201000.0\n",
       "15      204941000.0\n",
       "16       88000000.0\n",
       "17      120296000.0\n",
       "18       59037000.0\n",
       "19       44077000.0\n",
       "20       71885000.0\n",
       "21       44726000.0\n",
       "22      134200000.0\n",
       "23       89100000.0\n",
       "24      159995000.0\n",
       "25      176704000.0\n",
       "26       88000000.0\n",
       "27       38819000.0\n",
       "28       73557000.0\n",
       "29       68343000.0\n",
       "           ...     \n",
       "9336     22000000.0\n",
       "9337    150700000.0\n",
       "9338     44000000.0\n",
       "9339     66000000.0\n",
       "9340    143000000.0\n",
       "9341     44000000.0\n",
       "9342    138039000.0\n",
       "9343    114785000.0\n",
       "9344     82500000.0\n",
       "9345    125268000.0\n",
       "9346     55000000.0\n",
       "9347    110000000.0\n",
       "9348     15741000.0\n",
       "9349     53636000.0\n",
       "9350     62293000.0\n",
       "9351    114400000.0\n",
       "9352     98637000.0\n",
       "9353     71445000.0\n",
       "9354     84150000.0\n",
       "9355     34100000.0\n",
       "9356     66099000.0\n",
       "9357     77704000.0\n",
       "9358     18381000.0\n",
       "9359     32978000.0\n",
       "9360    127952000.0\n",
       "9361     17864000.0\n",
       "9362     82500000.0\n",
       "9363    110000000.0\n",
       "9364     33000000.0\n",
       "9365     89562000.0\n",
       "Name: sold, Length: 9366, dtype: float64"
      ]
     },
     "execution_count": 3,
     "metadata": {},
     "output_type": "execute_result"
    }
   ],
   "source": [
    "df['sold']  # selecting column"
   ]
  },
  {
   "cell_type": "code",
   "execution_count": 4,
   "metadata": {},
   "outputs": [
    {
     "data": {
      "text/plain": [
       "portfolio_id       PF00001002\n",
       "desk_id           DSK00001001\n",
       "office_id         OFF00001002\n",
       "pf_category                 B\n",
       "start_date           20040720\n",
       "sold                  1.1e+08\n",
       "country_code                T\n",
       "euribor_rate          0.02074\n",
       "currency                  USD\n",
       "libor_rate            2.33222\n",
       "bought             1.0981e+08\n",
       "creation_date        20040720\n",
       "indicator_code            NaN\n",
       "sell_date            20040812\n",
       "type                        B\n",
       "hedge_value               NaN\n",
       "status                    NaN\n",
       "return                0.02496\n",
       "Name: 0, dtype: object"
      ]
     },
     "execution_count": 4,
     "metadata": {},
     "output_type": "execute_result"
    }
   ],
   "source": [
    "df.iloc[0] #selecting row having index 0"
   ]
  },
  {
   "cell_type": "code",
   "execution_count": 5,
   "metadata": {
    "collapsed": true
   },
   "outputs": [],
   "source": [
    "x = df['bought']\n",
    "y = df['sold']"
   ]
  },
  {
   "cell_type": "code",
   "execution_count": 6,
   "metadata": {},
   "outputs": [
    {
     "data": {
      "text/plain": [
       "[<matplotlib.lines.Line2D at 0x28e09ebe4a8>]"
      ]
     },
     "execution_count": 6,
     "metadata": {},
     "output_type": "execute_result"
    },
    {
     "data": {
      "image/png": "[encoded data removed]",
      "text/plain": [
       "<matplotlib.figure.Figure at 0x28e0e4ec470>"
      ]
     },
     "metadata": {},
     "output_type": "display_data"
    }
   ],
   "source": [
    "plt.plot(x,y)"
   ]
  },
  {
   "cell_type": "code",
   "execution_count": null,
   "metadata": {},
   "outputs": [],
   "source": [
    "df.plot(kind='bar')"
   ]
  },
  {
   "cell_type": "code",
   "execution_count": 8,
   "metadata": {},
   "outputs": [
    {
     "name": "stderr",
     "output_type": "stream",
     "text": [
      "C:\\Users\\I341584\\Continuum\\Anaconda3\\lib\\site-packages\\matplotlib\\collections.py:877: RuntimeWarning: invalid value encountered in sqrt\n",
      "  scale = np.sqrt(self._sizes) * dpi / 72.0 * self._factor\n"
     ]
    },
    {
     "data": {
      "text/plain": [
       "<matplotlib.collections.PathCollection at 0x1f96c0a1f98>"
      ]
     },
     "execution_count": 8,
     "metadata": {},
     "output_type": "execute_result"
    },
    {
     "data": {
      "image/png": "[encoded data removed]",
      "text/plain": [
       "<matplotlib.figure.Figure at 0x1f96bbcd358>"
      ]
     },
     "metadata": {},
     "output_type": "display_data"
    }
   ],
   "source": [
    "plt.scatter(x,y,df['libor_rate'])"
   ]
  },
  {
   "cell_type": "code",
   "execution_count": 9,
   "metadata": {},
   "outputs": [
    {
     "data": {
      "text/plain": [
       "<matplotlib.axes._subplots.AxesSubplot at 0x1f96c2e8be0>"
      ]
     },
     "execution_count": 9,
     "metadata": {},
     "output_type": "execute_result"
    },
    {
     "data": {
      "image/png": "[encoded data removed]",
      "text/plain": [
       "<matplotlib.figure.Figure at 0x1f96bbcd1d0>"
      ]
     },
     "metadata": {},
     "output_type": "display_data"
    }
   ],
   "source": [
    "x.hist(bins=1000)"
   ]
  },
  {
   "cell_type": "code",
   "execution_count": 10,
   "metadata": {},
   "outputs": [
    {
     "data": {
      "text/plain": [
       "9366"
      ]
     },
     "execution_count": 10,
     "metadata": {},
     "output_type": "execute_result"
    }
   ],
   "source": [
    "len(df)"
   ]
  },
  {
   "cell_type": "code",
   "execution_count": 11,
   "metadata": {
    "collapsed": true
   },
   "outputs": [],
   "source": [
    "target = df['return']"
   ]
  },
  {
   "cell_type": "code",
   "execution_count": 12,
   "metadata": {},
   "outputs": [
    {
     "data": {
      "text/html": [
       "<div>\n",
       "<style>\n",
       "    .dataframe thead tr:only-child th {\n",
       "        text-align: right;\n",
       "    }\n",
       "\n",
       "    .dataframe thead th {\n",
       "        text-align: left;\n",
       "    }\n",
       "\n",
       "    .dataframe tbody tr th {\n",
       "        vertical-align: top;\n",
       "    }\n",
       "</style>\n",
       "<table border=\"1\" class=\"dataframe\">\n",
       "  <thead>\n",
       "    <tr style=\"text-align: right;\">\n",
       "      <th></th>\n",
       "      <th>sold</th>\n",
       "      <th>bought</th>\n",
       "      <th>return</th>\n",
       "    </tr>\n",
       "  </thead>\n",
       "  <tbody>\n",
       "    <tr>\n",
       "      <th>0</th>\n",
       "      <td>110000000.0</td>\n",
       "      <td>1.098097e+08</td>\n",
       "      <td>0.02496</td>\n",
       "    </tr>\n",
       "    <tr>\n",
       "      <th>1</th>\n",
       "      <td>176671000.0</td>\n",
       "      <td>1.760084e+08</td>\n",
       "      <td>0.05496</td>\n",
       "    </tr>\n",
       "    <tr>\n",
       "      <th>2</th>\n",
       "      <td>56474000.0</td>\n",
       "      <td>5.637953e+07</td>\n",
       "      <td>0.02496</td>\n",
       "    </tr>\n",
       "    <tr>\n",
       "      <th>3</th>\n",
       "      <td>164813000.0</td>\n",
       "      <td>1.645088e+08</td>\n",
       "      <td>0.02496</td>\n",
       "    </tr>\n",
       "    <tr>\n",
       "      <th>4</th>\n",
       "      <td>140800000.0</td>\n",
       "      <td>1.405402e+08</td>\n",
       "      <td>0.02496</td>\n",
       "    </tr>\n",
       "    <tr>\n",
       "      <th>5</th>\n",
       "      <td>48741000.0</td>\n",
       "      <td>4.865127e+07</td>\n",
       "      <td>0.02490</td>\n",
       "    </tr>\n",
       "    <tr>\n",
       "      <th>6</th>\n",
       "      <td>60593500.0</td>\n",
       "      <td>6.048181e+07</td>\n",
       "      <td>0.02493</td>\n",
       "    </tr>\n",
       "    <tr>\n",
       "      <th>7</th>\n",
       "      <td>134200000.0</td>\n",
       "      <td>1.339526e+08</td>\n",
       "      <td>0.02493</td>\n",
       "    </tr>\n",
       "    <tr>\n",
       "      <th>8</th>\n",
       "      <td>82929000.0</td>\n",
       "      <td>8.250616e+07</td>\n",
       "      <td>0.02460</td>\n",
       "    </tr>\n",
       "    <tr>\n",
       "      <th>9</th>\n",
       "      <td>212476000.0</td>\n",
       "      <td>2.114140e+08</td>\n",
       "      <td>0.02466</td>\n",
       "    </tr>\n",
       "    <tr>\n",
       "      <th>10</th>\n",
       "      <td>77099000.0</td>\n",
       "      <td>7.696082e+07</td>\n",
       "      <td>0.02502</td>\n",
       "    </tr>\n",
       "    <tr>\n",
       "      <th>11</th>\n",
       "      <td>134200000.0</td>\n",
       "      <td>1.339678e+08</td>\n",
       "      <td>0.02496</td>\n",
       "    </tr>\n",
       "    <tr>\n",
       "      <th>12</th>\n",
       "      <td>54989000.0</td>\n",
       "      <td>5.489385e+07</td>\n",
       "      <td>0.02496</td>\n",
       "    </tr>\n",
       "    <tr>\n",
       "      <th>13</th>\n",
       "      <td>61567000.0</td>\n",
       "      <td>6.146098e+07</td>\n",
       "      <td>0.02484</td>\n",
       "    </tr>\n",
       "    <tr>\n",
       "      <th>14</th>\n",
       "      <td>80201000.0</td>\n",
       "      <td>7.977902e+07</td>\n",
       "      <td>0.02511</td>\n",
       "    </tr>\n",
       "    <tr>\n",
       "      <th>15</th>\n",
       "      <td>204941000.0</td>\n",
       "      <td>2.038207e+08</td>\n",
       "      <td>0.02526</td>\n",
       "    </tr>\n",
       "    <tr>\n",
       "      <th>16</th>\n",
       "      <td>88000000.0</td>\n",
       "      <td>8.783779e+07</td>\n",
       "      <td>0.02493</td>\n",
       "    </tr>\n",
       "    <tr>\n",
       "      <th>17</th>\n",
       "      <td>120296000.0</td>\n",
       "      <td>1.200740e+08</td>\n",
       "      <td>0.02496</td>\n",
       "    </tr>\n",
       "    <tr>\n",
       "      <th>18</th>\n",
       "      <td>59037000.0</td>\n",
       "      <td>5.893813e+07</td>\n",
       "      <td>0.02499</td>\n",
       "    </tr>\n",
       "    <tr>\n",
       "      <th>19</th>\n",
       "      <td>44077000.0</td>\n",
       "      <td>4.400073e+07</td>\n",
       "      <td>0.02496</td>\n",
       "    </tr>\n",
       "    <tr>\n",
       "      <th>20</th>\n",
       "      <td>71885000.0</td>\n",
       "      <td>7.176091e+07</td>\n",
       "      <td>0.02490</td>\n",
       "    </tr>\n",
       "    <tr>\n",
       "      <th>21</th>\n",
       "      <td>44726000.0</td>\n",
       "      <td>4.464088e+07</td>\n",
       "      <td>0.02496</td>\n",
       "    </tr>\n",
       "    <tr>\n",
       "      <th>22</th>\n",
       "      <td>134200000.0</td>\n",
       "      <td>1.339678e+08</td>\n",
       "      <td>0.02496</td>\n",
       "    </tr>\n",
       "    <tr>\n",
       "      <th>23</th>\n",
       "      <td>89100000.0</td>\n",
       "      <td>8.893557e+07</td>\n",
       "      <td>0.02496</td>\n",
       "    </tr>\n",
       "    <tr>\n",
       "      <th>24</th>\n",
       "      <td>159995000.0</td>\n",
       "      <td>1.591349e+08</td>\n",
       "      <td>0.02538</td>\n",
       "    </tr>\n",
       "    <tr>\n",
       "      <th>25</th>\n",
       "      <td>176704000.0</td>\n",
       "      <td>1.760067e+08</td>\n",
       "      <td>0.05784</td>\n",
       "    </tr>\n",
       "    <tr>\n",
       "      <th>26</th>\n",
       "      <td>88000000.0</td>\n",
       "      <td>8.784773e+07</td>\n",
       "      <td>0.02496</td>\n",
       "    </tr>\n",
       "    <tr>\n",
       "      <th>27</th>\n",
       "      <td>38819000.0</td>\n",
       "      <td>3.875183e+07</td>\n",
       "      <td>0.02496</td>\n",
       "    </tr>\n",
       "    <tr>\n",
       "      <th>28</th>\n",
       "      <td>73557000.0</td>\n",
       "      <td>7.342972e+07</td>\n",
       "      <td>0.02496</td>\n",
       "    </tr>\n",
       "    <tr>\n",
       "      <th>29</th>\n",
       "      <td>68343000.0</td>\n",
       "      <td>6.822489e+07</td>\n",
       "      <td>0.02493</td>\n",
       "    </tr>\n",
       "    <tr>\n",
       "      <th>...</th>\n",
       "      <td>...</td>\n",
       "      <td>...</td>\n",
       "      <td>...</td>\n",
       "    </tr>\n",
       "    <tr>\n",
       "      <th>9336</th>\n",
       "      <td>22000000.0</td>\n",
       "      <td>2.199934e+07</td>\n",
       "      <td>0.00042</td>\n",
       "    </tr>\n",
       "    <tr>\n",
       "      <th>9337</th>\n",
       "      <td>150700000.0</td>\n",
       "      <td>1.506848e+08</td>\n",
       "      <td>0.00048</td>\n",
       "    </tr>\n",
       "    <tr>\n",
       "      <th>9338</th>\n",
       "      <td>44000000.0</td>\n",
       "      <td>4.399905e+07</td>\n",
       "      <td>0.00030</td>\n",
       "    </tr>\n",
       "    <tr>\n",
       "      <th>9339</th>\n",
       "      <td>66000000.0</td>\n",
       "      <td>6.588252e+07</td>\n",
       "      <td>0.00864</td>\n",
       "    </tr>\n",
       "    <tr>\n",
       "      <th>9340</th>\n",
       "      <td>143000000.0</td>\n",
       "      <td>1.429866e+08</td>\n",
       "      <td>0.00588</td>\n",
       "    </tr>\n",
       "    <tr>\n",
       "      <th>9341</th>\n",
       "      <td>44000000.0</td>\n",
       "      <td>4.398106e+07</td>\n",
       "      <td>0.00600</td>\n",
       "    </tr>\n",
       "    <tr>\n",
       "      <th>9342</th>\n",
       "      <td>138039000.0</td>\n",
       "      <td>1.380269e+08</td>\n",
       "      <td>0.00540</td>\n",
       "    </tr>\n",
       "    <tr>\n",
       "      <th>9343</th>\n",
       "      <td>114785000.0</td>\n",
       "      <td>1.147750e+08</td>\n",
       "      <td>0.00540</td>\n",
       "    </tr>\n",
       "    <tr>\n",
       "      <th>9344</th>\n",
       "      <td>82500000.0</td>\n",
       "      <td>8.246168e+07</td>\n",
       "      <td>0.00636</td>\n",
       "    </tr>\n",
       "    <tr>\n",
       "      <th>9345</th>\n",
       "      <td>125268000.0</td>\n",
       "      <td>1.252562e+08</td>\n",
       "      <td>0.00588</td>\n",
       "    </tr>\n",
       "    <tr>\n",
       "      <th>9346</th>\n",
       "      <td>55000000.0</td>\n",
       "      <td>5.501305e+07</td>\n",
       "      <td>-0.00168</td>\n",
       "    </tr>\n",
       "    <tr>\n",
       "      <th>9347</th>\n",
       "      <td>110000000.0</td>\n",
       "      <td>1.098900e+08</td>\n",
       "      <td>0.00720</td>\n",
       "    </tr>\n",
       "    <tr>\n",
       "      <th>9348</th>\n",
       "      <td>15741000.0</td>\n",
       "      <td>1.573962e+07</td>\n",
       "      <td>0.00540</td>\n",
       "    </tr>\n",
       "    <tr>\n",
       "      <th>9349</th>\n",
       "      <td>53636000.0</td>\n",
       "      <td>5.363131e+07</td>\n",
       "      <td>0.00540</td>\n",
       "    </tr>\n",
       "    <tr>\n",
       "      <th>9350</th>\n",
       "      <td>62293000.0</td>\n",
       "      <td>6.231370e+07</td>\n",
       "      <td>-0.00156</td>\n",
       "    </tr>\n",
       "    <tr>\n",
       "      <th>9351</th>\n",
       "      <td>114400000.0</td>\n",
       "      <td>1.143900e+08</td>\n",
       "      <td>0.00540</td>\n",
       "    </tr>\n",
       "    <tr>\n",
       "      <th>9352</th>\n",
       "      <td>98637000.0</td>\n",
       "      <td>9.862837e+07</td>\n",
       "      <td>0.00540</td>\n",
       "    </tr>\n",
       "    <tr>\n",
       "      <th>9353</th>\n",
       "      <td>71445000.0</td>\n",
       "      <td>7.143875e+07</td>\n",
       "      <td>0.00540</td>\n",
       "    </tr>\n",
       "    <tr>\n",
       "      <th>9354</th>\n",
       "      <td>84150000.0</td>\n",
       "      <td>8.417797e+07</td>\n",
       "      <td>-0.00156</td>\n",
       "    </tr>\n",
       "    <tr>\n",
       "      <th>9355</th>\n",
       "      <td>34100000.0</td>\n",
       "      <td>3.410455e+07</td>\n",
       "      <td>-0.00180</td>\n",
       "    </tr>\n",
       "    <tr>\n",
       "      <th>9356</th>\n",
       "      <td>66099000.0</td>\n",
       "      <td>6.609322e+07</td>\n",
       "      <td>0.00540</td>\n",
       "    </tr>\n",
       "    <tr>\n",
       "      <th>9357</th>\n",
       "      <td>77704000.0</td>\n",
       "      <td>7.769720e+07</td>\n",
       "      <td>0.00540</td>\n",
       "    </tr>\n",
       "    <tr>\n",
       "      <th>9358</th>\n",
       "      <td>18381000.0</td>\n",
       "      <td>1.837939e+07</td>\n",
       "      <td>0.00540</td>\n",
       "    </tr>\n",
       "    <tr>\n",
       "      <th>9359</th>\n",
       "      <td>32978000.0</td>\n",
       "      <td>3.297762e+07</td>\n",
       "      <td>0.00504</td>\n",
       "    </tr>\n",
       "    <tr>\n",
       "      <th>9360</th>\n",
       "      <td>127952000.0</td>\n",
       "      <td>1.279472e+08</td>\n",
       "      <td>0.00540</td>\n",
       "    </tr>\n",
       "    <tr>\n",
       "      <th>9361</th>\n",
       "      <td>17864000.0</td>\n",
       "      <td>1.786333e+07</td>\n",
       "      <td>0.00540</td>\n",
       "    </tr>\n",
       "    <tr>\n",
       "      <th>9362</th>\n",
       "      <td>82500000.0</td>\n",
       "      <td>8.249198e+07</td>\n",
       "      <td>0.00600</td>\n",
       "    </tr>\n",
       "    <tr>\n",
       "      <th>9363</th>\n",
       "      <td>110000000.0</td>\n",
       "      <td>1.099893e+08</td>\n",
       "      <td>0.00600</td>\n",
       "    </tr>\n",
       "    <tr>\n",
       "      <th>9364</th>\n",
       "      <td>33000000.0</td>\n",
       "      <td>3.299679e+07</td>\n",
       "      <td>0.00600</td>\n",
       "    </tr>\n",
       "    <tr>\n",
       "      <th>9365</th>\n",
       "      <td>89562000.0</td>\n",
       "      <td>8.955329e+07</td>\n",
       "      <td>0.00600</td>\n",
       "    </tr>\n",
       "  </tbody>\n",
       "</table>\n",
       "<p>9366 rows × 3 columns</p>\n",
       "</div>"
      ],
      "text/plain": [
       "             sold        bought   return\n",
       "0     110000000.0  1.098097e+08  0.02496\n",
       "1     176671000.0  1.760084e+08  0.05496\n",
       "2      56474000.0  5.637953e+07  0.02496\n",
       "3     164813000.0  1.645088e+08  0.02496\n",
       "4     140800000.0  1.405402e+08  0.02496\n",
       "5      48741000.0  4.865127e+07  0.02490\n",
       "6      60593500.0  6.048181e+07  0.02493\n",
       "7     134200000.0  1.339526e+08  0.02493\n",
       "8      82929000.0  8.250616e+07  0.02460\n",
       "9     212476000.0  2.114140e+08  0.02466\n",
       "10     77099000.0  7.696082e+07  0.02502\n",
       "11    134200000.0  1.339678e+08  0.02496\n",
       "12     54989000.0  5.489385e+07  0.02496\n",
       "13     61567000.0  6.146098e+07  0.02484\n",
       "14     80201000.0  7.977902e+07  0.02511\n",
       "15    204941000.0  2.038207e+08  0.02526\n",
       "16     88000000.0  8.783779e+07  0.02493\n",
       "17    120296000.0  1.200740e+08  0.02496\n",
       "18     59037000.0  5.893813e+07  0.02499\n",
       "19     44077000.0  4.400073e+07  0.02496\n",
       "20     71885000.0  7.176091e+07  0.02490\n",
       "21     44726000.0  4.464088e+07  0.02496\n",
       "22    134200000.0  1.339678e+08  0.02496\n",
       "23     89100000.0  8.893557e+07  0.02496\n",
       "24    159995000.0  1.591349e+08  0.02538\n",
       "25    176704000.0  1.760067e+08  0.05784\n",
       "26     88000000.0  8.784773e+07  0.02496\n",
       "27     38819000.0  3.875183e+07  0.02496\n",
       "28     73557000.0  7.342972e+07  0.02496\n",
       "29     68343000.0  6.822489e+07  0.02493\n",
       "...           ...           ...      ...\n",
       "9336   22000000.0  2.199934e+07  0.00042\n",
       "9337  150700000.0  1.506848e+08  0.00048\n",
       "9338   44000000.0  4.399905e+07  0.00030\n",
       "9339   66000000.0  6.588252e+07  0.00864\n",
       "9340  143000000.0  1.429866e+08  0.00588\n",
       "9341   44000000.0  4.398106e+07  0.00600\n",
       "9342  138039000.0  1.380269e+08  0.00540\n",
       "9343  114785000.0  1.147750e+08  0.00540\n",
       "9344   82500000.0  8.246168e+07  0.00636\n",
       "9345  125268000.0  1.252562e+08  0.00588\n",
       "9346   55000000.0  5.501305e+07 -0.00168\n",
       "9347  110000000.0  1.098900e+08  0.00720\n",
       "9348   15741000.0  1.573962e+07  0.00540\n",
       "9349   53636000.0  5.363131e+07  0.00540\n",
       "9350   62293000.0  6.231370e+07 -0.00156\n",
       "9351  114400000.0  1.143900e+08  0.00540\n",
       "9352   98637000.0  9.862837e+07  0.00540\n",
       "9353   71445000.0  7.143875e+07  0.00540\n",
       "9354   84150000.0  8.417797e+07 -0.00156\n",
       "9355   34100000.0  3.410455e+07 -0.00180\n",
       "9356   66099000.0  6.609322e+07  0.00540\n",
       "9357   77704000.0  7.769720e+07  0.00540\n",
       "9358   18381000.0  1.837939e+07  0.00540\n",
       "9359   32978000.0  3.297762e+07  0.00504\n",
       "9360  127952000.0  1.279472e+08  0.00540\n",
       "9361   17864000.0  1.786333e+07  0.00540\n",
       "9362   82500000.0  8.249198e+07  0.00600\n",
       "9363  110000000.0  1.099893e+08  0.00600\n",
       "9364   33000000.0  3.299679e+07  0.00600\n",
       "9365   89562000.0  8.955329e+07  0.00600\n",
       "\n",
       "[9366 rows x 3 columns]"
      ]
     },
     "execution_count": 12,
     "metadata": {},
     "output_type": "execute_result"
    }
   ],
   "source": [
    "df[['sold','bought','return']]"
   ]
  },
  {
   "cell_type": "code",
   "execution_count": 13,
   "metadata": {},
   "outputs": [
    {
     "data": {
      "text/html": [
       "<div>\n",
       "<style>\n",
       "    .dataframe thead tr:only-child th {\n",
       "        text-align: right;\n",
       "    }\n",
       "\n",
       "    .dataframe thead th {\n",
       "        text-align: left;\n",
       "    }\n",
       "\n",
       "    .dataframe tbody tr th {\n",
       "        vertical-align: top;\n",
       "    }\n",
       "</style>\n",
       "<table border=\"1\" class=\"dataframe\">\n",
       "  <thead>\n",
       "    <tr style=\"text-align: right;\">\n",
       "      <th></th>\n",
       "      <th>portfolio_id</th>\n",
       "      <th>desk_id</th>\n",
       "      <th>office_id</th>\n",
       "      <th>pf_category</th>\n",
       "      <th>start_date</th>\n",
       "      <th>sold</th>\n",
       "      <th>country_code</th>\n",
       "      <th>euribor_rate</th>\n",
       "      <th>currency</th>\n",
       "      <th>libor_rate</th>\n",
       "      <th>bought</th>\n",
       "      <th>creation_date</th>\n",
       "      <th>indicator_code</th>\n",
       "      <th>sell_date</th>\n",
       "      <th>type</th>\n",
       "      <th>hedge_value</th>\n",
       "      <th>status</th>\n",
       "      <th>return</th>\n",
       "    </tr>\n",
       "  </thead>\n",
       "  <tbody>\n",
       "    <tr>\n",
       "      <th>0</th>\n",
       "      <td>PF00001002</td>\n",
       "      <td>DSK00001001</td>\n",
       "      <td>OFF00001002</td>\n",
       "      <td>B</td>\n",
       "      <td>20040720</td>\n",
       "      <td>110000000.0</td>\n",
       "      <td>T</td>\n",
       "      <td>0.02074</td>\n",
       "      <td>USD</td>\n",
       "      <td>2.332216</td>\n",
       "      <td>1.098097e+08</td>\n",
       "      <td>20040720</td>\n",
       "      <td>NaN</td>\n",
       "      <td>20040812</td>\n",
       "      <td>B</td>\n",
       "      <td>NaN</td>\n",
       "      <td>NaN</td>\n",
       "      <td>0.02496</td>\n",
       "    </tr>\n",
       "    <tr>\n",
       "      <th>1</th>\n",
       "      <td>PF00001003</td>\n",
       "      <td>DSK00001002</td>\n",
       "      <td>OFF00001001</td>\n",
       "      <td>A</td>\n",
       "      <td>20040709</td>\n",
       "      <td>176671000.0</td>\n",
       "      <td>N</td>\n",
       "      <td>0.02074</td>\n",
       "      <td>GBP</td>\n",
       "      <td>5.269617</td>\n",
       "      <td>1.760084e+08</td>\n",
       "      <td>20040723</td>\n",
       "      <td>NaN</td>\n",
       "      <td>20040812</td>\n",
       "      <td>C</td>\n",
       "      <td>NaN</td>\n",
       "      <td>NaN</td>\n",
       "      <td>0.05496</td>\n",
       "    </tr>\n",
       "    <tr>\n",
       "      <th>2</th>\n",
       "      <td>PF00001005</td>\n",
       "      <td>DSK00001004</td>\n",
       "      <td>OFF00001001</td>\n",
       "      <td>A</td>\n",
       "      <td>20040723</td>\n",
       "      <td>56474000.0</td>\n",
       "      <td>T</td>\n",
       "      <td>0.02074</td>\n",
       "      <td>USD</td>\n",
       "      <td>2.332216</td>\n",
       "      <td>5.637953e+07</td>\n",
       "      <td>20040723</td>\n",
       "      <td>NaN</td>\n",
       "      <td>20040817</td>\n",
       "      <td>A</td>\n",
       "      <td>NaN</td>\n",
       "      <td>NaN</td>\n",
       "      <td>0.02496</td>\n",
       "    </tr>\n",
       "    <tr>\n",
       "      <th>3</th>\n",
       "      <td>PF00001006</td>\n",
       "      <td>DSK00001005</td>\n",
       "      <td>OFF00001001</td>\n",
       "      <td>A</td>\n",
       "      <td>20040609</td>\n",
       "      <td>164813000.0</td>\n",
       "      <td>T</td>\n",
       "      <td>0.02074</td>\n",
       "      <td>USD</td>\n",
       "      <td>2.332216</td>\n",
       "      <td>1.645088e+08</td>\n",
       "      <td>20040723</td>\n",
       "      <td>NaN</td>\n",
       "      <td>20040713</td>\n",
       "      <td>A</td>\n",
       "      <td>NaN</td>\n",
       "      <td>NaN</td>\n",
       "      <td>0.02496</td>\n",
       "    </tr>\n",
       "    <tr>\n",
       "      <th>4</th>\n",
       "      <td>PF00001007</td>\n",
       "      <td>DSK00001005</td>\n",
       "      <td>OFF00001002</td>\n",
       "      <td>B</td>\n",
       "      <td>20040609</td>\n",
       "      <td>140800000.0</td>\n",
       "      <td>T</td>\n",
       "      <td>0.02074</td>\n",
       "      <td>USD</td>\n",
       "      <td>2.332216</td>\n",
       "      <td>1.405402e+08</td>\n",
       "      <td>20040723</td>\n",
       "      <td>NaN</td>\n",
       "      <td>20040713</td>\n",
       "      <td>B</td>\n",
       "      <td>NaN</td>\n",
       "      <td>NaN</td>\n",
       "      <td>0.02496</td>\n",
       "    </tr>\n",
       "  </tbody>\n",
       "</table>\n",
       "</div>"
      ],
      "text/plain": [
       "  portfolio_id      desk_id    office_id pf_category  start_date         sold  \\\n",
       "0   PF00001002  DSK00001001  OFF00001002           B    20040720  110000000.0   \n",
       "1   PF00001003  DSK00001002  OFF00001001           A    20040709  176671000.0   \n",
       "2   PF00001005  DSK00001004  OFF00001001           A    20040723   56474000.0   \n",
       "3   PF00001006  DSK00001005  OFF00001001           A    20040609  164813000.0   \n",
       "4   PF00001007  DSK00001005  OFF00001002           B    20040609  140800000.0   \n",
       "\n",
       "  country_code  euribor_rate currency  libor_rate        bought  \\\n",
       "0            T       0.02074      USD    2.332216  1.098097e+08   \n",
       "1            N       0.02074      GBP    5.269617  1.760084e+08   \n",
       "2            T       0.02074      USD    2.332216  5.637953e+07   \n",
       "3            T       0.02074      USD    2.332216  1.645088e+08   \n",
       "4            T       0.02074      USD    2.332216  1.405402e+08   \n",
       "\n",
       "   creation_date indicator_code  sell_date type hedge_value status   return  \n",
       "0       20040720            NaN   20040812    B         NaN    NaN  0.02496  \n",
       "1       20040723            NaN   20040812    C         NaN    NaN  0.05496  \n",
       "2       20040723            NaN   20040817    A         NaN    NaN  0.02496  \n",
       "3       20040723            NaN   20040713    A         NaN    NaN  0.02496  \n",
       "4       20040723            NaN   20040713    B         NaN    NaN  0.02496  "
      ]
     },
     "execution_count": 13,
     "metadata": {},
     "output_type": "execute_result"
    }
   ],
   "source": [
    "df.head()"
   ]
  },
  {
   "cell_type": "code",
   "execution_count": 14,
   "metadata": {
    "collapsed": true
   },
   "outputs": [],
   "source": [
    "inp = np.array(df[['sold','euribor_rate','libor_rate','bought']],dtype='float64')"
   ]
  },
  {
   "cell_type": "code",
   "execution_count": 15,
   "metadata": {
    "collapsed": true
   },
   "outputs": [],
   "source": [
    "target = np.array(target,dtype='float64')"
   ]
  },
  {
   "cell_type": "code",
   "execution_count": 16,
   "metadata": {},
   "outputs": [
    {
     "data": {
      "text/plain": [
       "False"
      ]
     },
     "execution_count": 16,
     "metadata": {},
     "output_type": "execute_result"
    }
   ],
   "source": [
    "np.any(np.isnan(df['euribor_rate']))"
   ]
  },
  {
   "cell_type": "code",
   "execution_count": 17,
   "metadata": {},
   "outputs": [
    {
     "name": "stdout",
     "output_type": "stream",
     "text": [
      "PF00001860\n",
      "PF00001861\n"
     ]
    }
   ],
   "source": [
    "for indx in range(len(df)):\n",
    "    if(np.isnan(df['bought'][indx])):\n",
    "        print(df['portfolio_id'][indx])"
   ]
  },
  {
   "cell_type": "code",
   "execution_count": 18,
   "metadata": {},
   "outputs": [
    {
     "data": {
      "text/plain": [
       "572   NaN\n",
       "Name: bought, dtype: float64"
      ]
     },
     "execution_count": 18,
     "metadata": {},
     "output_type": "execute_result"
    }
   ],
   "source": [
    "df['bought'][df['portfolio_id'] == 'PF00001860']"
   ]
  },
  {
   "cell_type": "code",
   "execution_count": 19,
   "metadata": {
    "collapsed": true
   },
   "outputs": [],
   "source": [
    "avg_bought = np.sum(df['bought'])/len(df['bought'])-2"
   ]
  },
  {
   "cell_type": "code",
   "execution_count": 20,
   "metadata": {},
   "outputs": [
    {
     "data": {
      "text/plain": [
       "101869643.32195285"
      ]
     },
     "execution_count": 20,
     "metadata": {},
     "output_type": "execute_result"
    }
   ],
   "source": [
    "avg_bought"
   ]
  },
  {
   "cell_type": "code",
   "execution_count": 21,
   "metadata": {
    "collapsed": true
   },
   "outputs": [],
   "source": [
    "avg_sold = np.sum(df['sold'])/len(df['sold'])-2"
   ]
  },
  {
   "cell_type": "code",
   "execution_count": 22,
   "metadata": {},
   "outputs": [
    {
     "data": {
      "text/plain": [
       "101952266.15501375"
      ]
     },
     "execution_count": 22,
     "metadata": {},
     "output_type": "execute_result"
    }
   ],
   "source": [
    "avg_sold"
   ]
  },
  {
   "cell_type": "code",
   "execution_count": 23,
   "metadata": {
    "collapsed": true
   },
   "outputs": [],
   "source": [
    "avg_libor_rate = np.sum(df['libor_rate'])/(len(df['libor_rate'])-474)"
   ]
  },
  {
   "cell_type": "code",
   "execution_count": 24,
   "metadata": {},
   "outputs": [
    {
     "name": "stderr",
     "output_type": "stream",
     "text": [
      "C:\\Users\\I341584\\Continuum\\Anaconda3\\lib\\site-packages\\ipykernel_launcher.py:3: SettingWithCopyWarning: \n",
      "A value is trying to be set on a copy of a slice from a DataFrame\n",
      "\n",
      "See the caveats in the documentation: http://pandas.pydata.org/pandas-docs/stable/indexing.html#indexing-view-versus-copy\n",
      "  This is separate from the ipykernel package so we can avoid doing imports until\n"
     ]
    }
   ],
   "source": [
    "for indx in range(len(df)):\n",
    "    if(np.isnan(df['bought'][indx])):\n",
    "        df['bought'][indx] = avg_bought        #replacing bought nan value with avg_bought"
   ]
  },
  {
   "cell_type": "code",
   "execution_count": 25,
   "metadata": {},
   "outputs": [
    {
     "data": {
      "text/plain": [
       "True"
      ]
     },
     "execution_count": 25,
     "metadata": {},
     "output_type": "execute_result"
    }
   ],
   "source": [
    "np.any(np.isnan(df['sold']))"
   ]
  },
  {
   "cell_type": "code",
   "execution_count": 26,
   "metadata": {},
   "outputs": [
    {
     "name": "stderr",
     "output_type": "stream",
     "text": [
      "C:\\Users\\I341584\\Continuum\\Anaconda3\\lib\\site-packages\\ipykernel_launcher.py:3: SettingWithCopyWarning: \n",
      "A value is trying to be set on a copy of a slice from a DataFrame\n",
      "\n",
      "See the caveats in the documentation: http://pandas.pydata.org/pandas-docs/stable/indexing.html#indexing-view-versus-copy\n",
      "  This is separate from the ipykernel package so we can avoid doing imports until\n"
     ]
    }
   ],
   "source": [
    "for indx in range(len(df)):\n",
    "    if(np.isnan(df['sold'][indx])):\n",
    "        df['sold'][indx] = avg_sold     #replacing sold nan value with avg_sold"
   ]
  },
  {
   "cell_type": "code",
   "execution_count": 27,
   "metadata": {
    "collapsed": true
   },
   "outputs": [],
   "source": [
    "from sklearn import svm\n",
    "clf = svm.SVR()"
   ]
  },
  {
   "cell_type": "code",
   "execution_count": 29,
   "metadata": {},
   "outputs": [
    {
     "data": {
      "text/plain": [
       "True"
      ]
     },
     "execution_count": 29,
     "metadata": {},
     "output_type": "execute_result"
    }
   ],
   "source": [
    "np.any(np.isnan(df['libor_rate']))"
   ]
  },
  {
   "cell_type": "code",
   "execution_count": 30,
   "metadata": {},
   "outputs": [
    {
     "name": "stderr",
     "output_type": "stream",
     "text": [
      "C:\\Users\\I341584\\Continuum\\Anaconda3\\lib\\site-packages\\ipykernel_launcher.py:3: SettingWithCopyWarning: \n",
      "A value is trying to be set on a copy of a slice from a DataFrame\n",
      "\n",
      "See the caveats in the documentation: http://pandas.pydata.org/pandas-docs/stable/indexing.html#indexing-view-versus-copy\n",
      "  This is separate from the ipykernel package so we can avoid doing imports until\n"
     ]
    }
   ],
   "source": [
    "for indx in range(len(df)):\n",
    "    if(np.isnan(df['libor_rate'][indx])):\n",
    "        df['libor_rate'][indx] = avg_libor_rate  #replacing nan value with avg_libor_rate"
   ]
  },
  {
   "cell_type": "code",
   "execution_count": null,
   "metadata": {
    "collapsed": true
   },
   "outputs": [],
   "source": [
    "np.any(np.isnan(df['libor_rate']))"
   ]
  }
 ],
 "metadata": {
  "kernelspec": {
   "display_name": "Python 3",
   "language": "python",
   "name": "python3"
  },
  "language_info": {
   "codemirror_mode": {
    "name": "ipython",
    "version": 3
   },
   "file_extension": ".py",
   "mimetype": "text/x-python",
   "name": "python",
   "nbconvert_exporter": "python",
   "pygments_lexer": "ipython3",
   "version": "3.6.1"
  }
 },
 "nbformat": 4,
 "nbformat_minor": 2
}
